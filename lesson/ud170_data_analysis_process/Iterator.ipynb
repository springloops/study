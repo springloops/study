{
 "cells": [
  {
   "cell_type": "code",
   "execution_count": 1,
   "metadata": {},
   "outputs": [
    {
     "name": "stdout",
     "output_type": "stream",
     "text": [
      "1\n",
      "2\n",
      "3\n",
      "5\n",
      "8\n",
      "13\n",
      "21\n",
      "34\n"
     ]
    }
   ],
   "source": [
    "class FibIterator:\n",
    "    \"\"\"\n",
    "    this class is a generates a well known sequence of numbers\n",
    "    \"\"\"\n",
    "    \n",
    "    def __init__(self, iLast=1, isecondLast=0, iMax=50):\n",
    "        self.iLast = iLast\n",
    "        self.isecondLast = isecondLast\n",
    "        self.iMax = iMax\n",
    "        \n",
    "    def __iter__(self):\n",
    "        \"\"\"\n",
    "        if this class is iteration then class must have a __iter__ function \n",
    "        \"\"\"\n",
    "        return self;  # because the object is both the iterable and the itorator\n",
    "    \n",
    "    def next(self):\n",
    "        iNext = self.iLast + self.isecondLast\n",
    "        if iNext > self.iMax:\n",
    "            raise StopIteration()\n",
    "        self.isecondLast = self.iLast\n",
    "        self.iLast = iNext\n",
    "        return iNext\n",
    "\n",
    "    \n",
    "o = FibIterator()\n",
    "for i in o:\n",
    "    print(i)"
   ]
  },
  {
   "cell_type": "code",
   "execution_count": null,
   "metadata": {},
   "outputs": [],
   "source": []
  }
 ],
 "metadata": {
  "kernelspec": {
   "display_name": "Python 2",
   "language": "python",
   "name": "python2"
  },
  "language_info": {
   "codemirror_mode": {
    "name": "ipython",
    "version": 2
   },
   "file_extension": ".py",
   "mimetype": "text/x-python",
   "name": "python",
   "nbconvert_exporter": "python",
   "pygments_lexer": "ipython2",
   "version": "2.7.14"
  }
 },
 "nbformat": 4,
 "nbformat_minor": 2
}
