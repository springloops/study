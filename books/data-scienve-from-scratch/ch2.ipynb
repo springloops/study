{
 "cells": [
  {
   "cell_type": "code",
   "execution_count": 4,
   "metadata": {
    "collapsed": false
   },
   "outputs": [],
   "source": [
    "# 모듈 가져오기\n",
    "import re\n",
    "my_regex = re.compile(\"[0-9]+\", re.I)\n",
    "\n",
    "# 모듈 별칭\n",
    "import re as regex\n",
    "myregex = regex.compile(\"[0-9]+\", regex.I)\n",
    "\n",
    "import matplotlib.pyplot as plt\n",
    "\n",
    "# 전체 모듈을 가져오지 않고, 필요한 특정 모듈만 가져오기.\n",
    "# from xxx import\n",
    "from collections import defaultdict, Counter\n",
    "lookup = defaultdict(int)\n",
    "my_counter = Counter()\n"
   ]
  },
  {
   "cell_type": "code",
   "execution_count": 10,
   "metadata": {
    "collapsed": false
   },
   "outputs": [
    {
     "name": "stdout",
     "output_type": "stream",
     "text": [
      "2.5\n",
      "2.5\n"
     ]
    }
   ],
   "source": [
    "# 파이썬은 정수 나눗셈을 기본으로 한다.\n",
    "a = 5 / 2 # a = 2\n",
    "\n",
    "# 일반적인 나눗셈을 하기 위해..\n",
    "from __future__ import division\n",
    "b = 5 / 2 \n",
    "print b\n"
   ]
  },
  {
   "cell_type": "code",
   "execution_count": 11,
   "metadata": {
    "collapsed": true
   },
   "outputs": [],
   "source": [
    "# 2.1.6 함수\n",
    "\n",
    "# 파이썬 함수는 def 로 생성\n",
    "\n",
    "def double(x):\n",
    "    \"\"\"이 곳은 함수에 대한 설명을 적어 놓는 공간이다.\n",
    "    예를 들어, \"이 함수는 입력된 변수에 2를 곱한 값을 출력해 준다.\"\n",
    "    라는 설명을 추가할 수 있다.\"\"\"\n",
    "    return x * 2\n"
   ]
  },
  {
   "cell_type": "code",
   "execution_count": 12,
   "metadata": {
    "collapsed": true
   },
   "outputs": [],
   "source": [
    "# 파이썬 함수는 변수로 할당하거나, 함수의 인자로 전달할 수 있다.\n",
    "\n",
    "def apply_to_one(f):\n",
    "    \"\"\"인자가 1인 함수 f를 호출\"\"\"\n",
    "    return f(1)\n",
    "\n"
   ]
  },
  {
   "cell_type": "code",
   "execution_count": 13,
   "metadata": {
    "collapsed": false
   },
   "outputs": [],
   "source": [
    "# 함수 변수 할당\n",
    "my_double = double\n",
    "\n",
    "# 함수 인자로 전달\n",
    "x = apply_to_one(my_double)\n",
    "\n",
    "# 람다 함수 전달\n",
    "y = apply_to_one(lambda x : x + 4)"
   ]
  },
  {
   "cell_type": "code",
   "execution_count": 15,
   "metadata": {
    "collapsed": false
   },
   "outputs": [],
   "source": [
    "# 함수 기본 인자값 할당\n",
    "\n",
    "def my_print(message=\"my default message\"):\n",
    "    print message\n",
    "    "
   ]
  },
  {
   "cell_type": "code",
   "execution_count": 17,
   "metadata": {
    "collapsed": false
   },
   "outputs": [
    {
     "name": "stdout",
     "output_type": "stream",
     "text": [
      "Hi\n",
      "my default message\n"
     ]
    }
   ],
   "source": [
    "my_print(\"Hi\")\n",
    "\n",
    "my_print()"
   ]
  },
  {
   "cell_type": "code",
   "execution_count": 18,
   "metadata": {
    "collapsed": false
   },
   "outputs": [
    {
     "name": "stdout",
     "output_type": "stream",
     "text": [
      "cannot divide by Zero\n"
     ]
    }
   ],
   "source": [
    "try:\n",
    "    print 0 / 0\n",
    "except ZeroDivisionError:\n",
    "    print \"cannot divide by Zero\""
   ]
  },
  {
   "cell_type": "code",
   "execution_count": 19,
   "metadata": {
    "collapsed": false
   },
   "outputs": [
    {
     "name": "stdout",
     "output_type": "stream",
     "text": [
      "3 6\n"
     ]
    }
   ],
   "source": [
    "integer_list = [1,2,3]\n",
    "heterogeneous_list = [\"String\", 0.1, True]\n",
    "list_of_list = [ integer_list, heterogeneous_list, [] ]\n",
    "\n",
    "list_length = len(integer_list)\n",
    "list_sum = sum(integer_list)\n",
    "\n",
    "print list_length, list_sum"
   ]
  },
  {
   "cell_type": "code",
   "execution_count": 22,
   "metadata": {
    "collapsed": false
   },
   "outputs": [
    {
     "name": "stdout",
     "output_type": "stream",
     "text": [
      "0\n",
      "1\n",
      "9\n",
      "8\n",
      "[-1, 1, 2, 3, 4, 5, 6, 7, 8, 9]\n"
     ]
    }
   ],
   "source": [
    "x = range(10)\n",
    "\n",
    "print x[0]\n",
    "print x[1]\n",
    "print x[-1]\n",
    "print x[-2]\n",
    "x[0] = -1\n",
    "print x"
   ]
  },
  {
   "cell_type": "code",
   "execution_count": 27,
   "metadata": {
    "collapsed": false
   },
   "outputs": [
    {
     "name": "stdout",
     "output_type": "stream",
     "text": [
      "[-1, 1, 2]\n",
      "[3, 4, 5, 6, 7, 8, 9]\n",
      "[1, 2, 3, 4]\n",
      "[-1, 1, 2, 3, 4, 5, 6]\n",
      "[1, 2, 3, 4, 5, 6, 7, 8]\n",
      "[-1, 1, 2, 3, 4, 5, 6, 7, 8, 9]\n"
     ]
    }
   ],
   "source": [
    "#list split\n",
    "first_three = x[:3]\n",
    "print first_three\n",
    "\n",
    "three_to_end = x [3:]\n",
    "print three_to_end\n",
    "\n",
    "ont_to_four = x[1:5]\n",
    "print ont_to_four\n",
    "\n",
    "last_three = x[:-3]\n",
    "print last_three\n",
    "\n",
    "without_first_and_last = x[1:-1]\n",
    "print without_first_and_last\n",
    "\n",
    "copy_of_x=x[:]\n",
    "print copy_of_x"
   ]
  },
  {
   "cell_type": "code",
   "execution_count": 29,
   "metadata": {
    "collapsed": false
   },
   "outputs": [
    {
     "data": {
      "text/plain": [
       "False"
      ]
     },
     "execution_count": 29,
     "metadata": {},
     "output_type": "execute_result"
    }
   ],
   "source": [
    "\n",
    "1 in [1, 2, 3]\n",
    "0 in [1, 2, 3]"
   ]
  },
  {
   "cell_type": "code",
   "execution_count": 31,
   "metadata": {
    "collapsed": false
   },
   "outputs": [
    {
     "data": {
      "text/plain": [
       "[1, 2, 3, 4, 5, 6]"
      ]
     },
     "execution_count": 31,
     "metadata": {},
     "output_type": "execute_result"
    }
   ],
   "source": [
    "x = [1,2,3]\n",
    "x.extend([4,5,6])\n",
    "x"
   ]
  },
  {
   "cell_type": "code",
   "execution_count": 32,
   "metadata": {
    "collapsed": false
   },
   "outputs": [
    {
     "name": "stdout",
     "output_type": "stream",
     "text": [
      "1\n",
      "2\n"
     ]
    }
   ],
   "source": [
    "a, b = [1, 2]\n",
    "print a \n",
    "print b"
   ]
  },
  {
   "cell_type": "code",
   "execution_count": 37,
   "metadata": {
    "collapsed": false
   },
   "outputs": [
    {
     "name": "stdout",
     "output_type": "stream",
     "text": [
      "6\n"
     ]
    }
   ],
   "source": [
    "_, b = [1,6]\n",
    "print b"
   ]
  }
 ],
 "metadata": {
  "kernelspec": {
   "display_name": "Python 2",
   "language": "python",
   "name": "python2"
  },
  "language_info": {
   "codemirror_mode": {
    "name": "ipython",
    "version": 2
   },
   "file_extension": ".py",
   "mimetype": "text/x-python",
   "name": "python",
   "nbconvert_exporter": "python",
   "pygments_lexer": "ipython2",
   "version": "2.7.13"
  }
 },
 "nbformat": 4,
 "nbformat_minor": 2
}
