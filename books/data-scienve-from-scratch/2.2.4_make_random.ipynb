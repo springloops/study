{
 "cells": [
  {
   "cell_type": "code",
   "execution_count": 3,
   "metadata": {
    "collapsed": false
   },
   "outputs": [
    {
     "data": {
      "text/plain": [
       "[0.15321900640983088,\n",
       " 0.19485199506783457,\n",
       " 0.15048505718780814,\n",
       " 0.35493693625540834]"
      ]
     },
     "execution_count": 3,
     "metadata": {},
     "output_type": "execute_result"
    }
   ],
   "source": [
    "import random\n",
    "\n",
    "four_uniform_randoms = [random.random() for _ in range(4)]\n",
    "four_uniform_randoms"
   ]
  },
  {
   "cell_type": "code",
   "execution_count": 4,
   "metadata": {
    "collapsed": false
   },
   "outputs": [
    {
     "name": "stdout",
     "output_type": "stream",
     "text": [
      "0.57140259469\n",
      "0.57140259469\n"
     ]
    }
   ],
   "source": [
    "# 동일한 난수 사용하기.\n",
    "random.seed(10)\n",
    "print random.random()\n",
    "\n",
    "random.seed(10)\n",
    "print random.random()"
   ]
  },
  {
   "cell_type": "code",
   "execution_count": 5,
   "metadata": {
    "collapsed": false
   },
   "outputs": [
    {
     "name": "stdout",
     "output_type": "stream",
     "text": [
      "0.428889054675\n",
      "0.578091301134\n"
     ]
    }
   ],
   "source": [
    "print random.random()\n",
    "print random.random()"
   ]
  },
  {
   "cell_type": "code",
   "execution_count": 6,
   "metadata": {
    "collapsed": false
   },
   "outputs": [
    {
     "name": "stdout",
     "output_type": "stream",
     "text": [
      "2\n",
      "4\n"
     ]
    }
   ],
   "source": [
    "# 구간내 난수 생성\n",
    "print random.randrange(10)\n",
    "print random.randrange(3, 5)"
   ]
  },
  {
   "cell_type": "code",
   "execution_count": 7,
   "metadata": {
    "collapsed": false
   },
   "outputs": [
    {
     "name": "stdout",
     "output_type": "stream",
     "text": [
      "[4, 0, 2, 6, 9, 7, 3, 1, 5, 8]\n"
     ]
    }
   ],
   "source": [
    "up_to_ten = range(10)\n",
    "random.shuffle(up_to_ten)\n",
    "print up_to_ten"
   ]
  },
  {
   "cell_type": "code",
   "execution_count": 9,
   "metadata": {
    "collapsed": false
   },
   "outputs": [
    {
     "name": "stdout",
     "output_type": "stream",
     "text": [
      "Bob\n"
     ]
    }
   ],
   "source": [
    "# 임의 선택\n",
    "my_best_friend = random.choice([\"Alice\", \"Bob\", \"Charlie\"])\n",
    "print my_best_friend"
   ]
  },
  {
   "cell_type": "code",
   "execution_count": 11,
   "metadata": {
    "collapsed": false
   },
   "outputs": [
    {
     "name": "stdout",
     "output_type": "stream",
     "text": [
      "[0, 1, 2, 3, 4, 5, 6, 7, 8, 9, 10, 11, 12, 13, 14, 15, 16, 17, 18, 19, 20, 21, 22, 23, 24, 25, 26, 27, 28, 29, 30, 31, 32, 33, 34, 35, 36, 37, 38, 39, 40, 41, 42, 43, 44, 45, 46, 47, 48, 49, 50, 51, 52, 53, 54, 55, 56, 57, 58, 59]\n",
      "[22, 16, 39, 26, 38, 36]\n"
     ]
    }
   ],
   "source": [
    "# 임의 표본\n",
    "lottery_number = range(60)\n",
    "winning_number = random.sample(lottery_number, 6)\n",
    "print lottery_number\n",
    "print winning_number"
   ]
  },
  {
   "cell_type": "code",
   "execution_count": 12,
   "metadata": {
    "collapsed": false
   },
   "outputs": [
    {
     "name": "stdout",
     "output_type": "stream",
     "text": [
      "[1, 7, 9, 9]\n"
     ]
    }
   ],
   "source": [
    "# 중복 허용 표본\n",
    "four_with_replacement = [ random.choice(range(10)) for _ in range(4)]\n",
    "print four_with_replacement"
   ]
  }
 ],
 "metadata": {
  "kernelspec": {
   "display_name": "Python 2",
   "language": "python",
   "name": "python2"
  },
  "language_info": {
   "codemirror_mode": {
    "name": "ipython",
    "version": 2
   },
   "file_extension": ".py",
   "mimetype": "text/x-python",
   "name": "python",
   "nbconvert_exporter": "python",
   "pygments_lexer": "ipython2",
   "version": "2.7.13"
  }
 },
 "nbformat": 4,
 "nbformat_minor": 2
}
