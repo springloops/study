{
 "cells": [
  {
   "cell_type": "code",
   "execution_count": null,
   "metadata": {
    "collapsed": true
   },
   "outputs": [],
   "source": [
    "# 파이썬 스럽지 않은..\n",
    "for i in range(len(documents)):\n",
    "    document = documents[i]\n",
    "    do_something(i, document)\n",
    "\n",
    "# 마찬가지로 파이썬 스럽지 않은..\n",
    "i = 0\n",
    "for document in documents:\n",
    "    do_something(i, document)\n",
    "    i += 1\n",
    "    \n",
    "# 가장 파이썬 스러운 방법 : \n",
    "for i, document in enumerate(documents):\n",
    "    do_something(i, document)\n",
    "\n",
    "# 만약 인덱스만 필요하다면 다음과 같이 ..\n",
    "for i in range(len(document)): do_something(i) # 파이썬 스럽지 않은.\n",
    "for i, _ in enumerate(documents): do_something(i) # 파이썬스러운"
   ]
  }
 ],
 "metadata": {
  "kernelspec": {
   "display_name": "Python 2",
   "language": "python",
   "name": "python2"
  },
  "language_info": {
   "codemirror_mode": {
    "name": "ipython",
    "version": 2
   },
   "file_extension": ".py",
   "mimetype": "text/x-python",
   "name": "python",
   "nbconvert_exporter": "python",
   "pygments_lexer": "ipython2",
   "version": "2.7.13"
  }
 },
 "nbformat": 4,
 "nbformat_minor": 2
}
