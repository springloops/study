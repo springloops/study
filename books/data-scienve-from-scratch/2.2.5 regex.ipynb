{
 "cells": [
  {
   "cell_type": "code",
   "execution_count": 3,
   "metadata": {
    "collapsed": false
   },
   "outputs": [
    {
     "name": "stdout",
     "output_type": "stream",
     "text": [
      "True\n"
     ]
    }
   ],
   "source": [
    "import re\n",
    "\n",
    "print all([\n",
    "    not re.match(\"a\", \"cat\"),# cat 은 a로 시작하지 않기 때문에\n",
    "    re.search(\"a\", \"cat\"),# cat 안에는 a 가 존재하기 때문에\n",
    "    not re.search(\"c\", \"dog\"),# dog 안에는 c 가 존재 하지 않기 때문에\n",
    "    3 == len(re.split(\"[ab]\", \"carbs\")),# a 또는  b 기준으로 나누면\n",
    "    \"R-D-\" == re.sub(\"[0-9]\", \"-\", \"R2D2\")#숫자를 -로 대체\n",
    "])"
   ]
  }
 ],
 "metadata": {
  "kernelspec": {
   "display_name": "Python 2",
   "language": "python",
   "name": "python2"
  },
  "language_info": {
   "codemirror_mode": {
    "name": "ipython",
    "version": 2
   },
   "file_extension": ".py",
   "mimetype": "text/x-python",
   "name": "python",
   "nbconvert_exporter": "python",
   "pygments_lexer": "ipython2",
   "version": "2.7.13"
  }
 },
 "nbformat": 4,
 "nbformat_minor": 2
}
