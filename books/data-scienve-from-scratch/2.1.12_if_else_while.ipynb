{
 "cells": [
  {
   "cell_type": "code",
   "execution_count": 1,
   "metadata": {
    "collapsed": true
   },
   "outputs": [],
   "source": [
    "if 1 > 2:\n",
    "    msg = \"if only 1 were greater than two..\"\n",
    "elif 1 > 3:\n",
    "    msg = \"elif statnds for 'else if'\"\n",
    "else:\n",
    "    \"when all else fails use else\""
   ]
  },
  {
   "cell_type": "code",
   "execution_count": 3,
   "metadata": {
    "collapsed": false
   },
   "outputs": [],
   "source": [
    "x = 2\n",
    "parity = \"even\" if x % 2 == 0 else \"odd\""
   ]
  },
  {
   "cell_type": "code",
   "execution_count": 4,
   "metadata": {
    "collapsed": false
   },
   "outputs": [
    {
     "name": "stdout",
     "output_type": "stream",
     "text": [
      "0  is less than 10\n",
      "1  is less than 10\n",
      "2  is less than 10\n",
      "3  is less than 10\n",
      "4  is less than 10\n",
      "5  is less than 10\n",
      "6  is less than 10\n",
      "7  is less than 10\n",
      "8  is less than 10\n",
      "9  is less than 10\n",
      "0  is less than 10\n",
      "1  is less than 10\n",
      "2  is less than 10\n",
      "3  is less than 10\n",
      "4  is less than 10\n",
      "5  is less than 10\n",
      "6  is less than 10\n",
      "7  is less than 10\n",
      "8  is less than 10\n",
      "9  is less than 10\n"
     ]
    }
   ],
   "source": [
    "x = 0\n",
    "while x < 10:\n",
    "    print x, \" is less than 10\"\n",
    "    x += 1\n",
    "    \n",
    "for x in range(10):\n",
    "    print x, \" is less than 10\""
   ]
  }
 ],
 "metadata": {
  "kernelspec": {
   "display_name": "Python 2",
   "language": "python",
   "name": "python2"
  },
  "language_info": {
   "codemirror_mode": {
    "name": "ipython",
    "version": 2
   },
   "file_extension": ".py",
   "mimetype": "text/x-python",
   "name": "python",
   "nbconvert_exporter": "python",
   "pygments_lexer": "ipython2",
   "version": "2.7.13"
  }
 },
 "nbformat": 4,
 "nbformat_minor": 2
}
