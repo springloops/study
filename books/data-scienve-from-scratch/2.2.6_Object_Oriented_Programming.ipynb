{
 "cells": [
  {
   "cell_type": "code",
   "execution_count": 4,
   "metadata": {
    "collapsed": true
   },
   "outputs": [],
   "source": [
    "class Set:\n",
    "    # 관습적으로 멤버 함수의 첫 번째 인자는 \"self\" \n",
    "    # self 란 현재 사용되고 있는 Set 객체를 의미한다.\n",
    "    def __init__(self, values=None):\n",
    "        \"\"\"\n",
    "        이것은 constructor 다.\n",
    "        새로운 Set을 만들면 호출한다.\n",
    "        다음과 같이 사용할 수 있다.\n",
    "        s1 = Set();\n",
    "        s1 = ([1,2,3,4,5])        \n",
    "        \"\"\"\n",
    "        \n",
    "        self.dict = {}\n",
    "        \n",
    "        if values is not None:\n",
    "            for value in values:\n",
    "                self.add(value)\n",
    "                \n",
    "    def __repr__(self):\n",
    "        \"\"\"\n",
    "        파이썬 프롬프트에서 이 함수를 입력하거나 str()으로 보내면 Set 객체를 문자열로 표시한다\n",
    "        \"\"\"\n",
    "        return \"Set: \" + str(self.dict.keys())\n",
    "    \n",
    "    def add(self, value):\n",
    "        self.dict[value] = True\n",
    "        \n",
    "    def contains(self, value):\n",
    "        return value in self.dict\n",
    "    \n",
    "    def remove(self, value):\n",
    "        del self.dict[value]\n",
    "        "
   ]
  },
  {
   "cell_type": "code",
   "execution_count": 5,
   "metadata": {
    "collapsed": false
   },
   "outputs": [
    {
     "name": "stdout",
     "output_type": "stream",
     "text": [
      "True\n",
      "False\n"
     ]
    }
   ],
   "source": [
    "s = Set([1,2,3])\n",
    "s.add(4)\n",
    "print s.contains(4)\n",
    "s.remove(3)\n",
    "print s.contains(3)"
   ]
  }
 ],
 "metadata": {
  "kernelspec": {
   "display_name": "Python 2",
   "language": "python",
   "name": "python2"
  },
  "language_info": {
   "codemirror_mode": {
    "name": "ipython",
    "version": 2
   },
   "file_extension": ".py",
   "mimetype": "text/x-python",
   "name": "python",
   "nbconvert_exporter": "python",
   "pygments_lexer": "ipython2",
   "version": "2.7.13"
  }
 },
 "nbformat": 4,
 "nbformat_minor": 2
}
