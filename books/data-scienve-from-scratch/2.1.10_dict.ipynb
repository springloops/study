{
 "cells": [
  {
   "cell_type": "code",
   "execution_count": 10,
   "metadata": {
    "collapsed": false
   },
   "outputs": [
    {
     "name": "stdout",
     "output_type": "stream",
     "text": [
      "{}\n",
      "{}\n",
      "True\n",
      "{'Tim': 95, 'Joel': 80}\n",
      "80\n"
     ]
    }
   ],
   "source": [
    "#key value map\n",
    "# dict\n",
    "\n",
    "empty_dic= {}\n",
    "empty_dic2 = dict()\n",
    "grade = {\"Joel\" : 80, \"Tim\" : 95}\n",
    "\n",
    "print empty_dic\n",
    "print empty_dic2\n",
    "print empty_dic == empty_dic2\n",
    "\n",
    "print grade\n",
    "print grade[\"Joel\"]"
   ]
  },
  {
   "cell_type": "code",
   "execution_count": 11,
   "metadata": {
    "collapsed": false
   },
   "outputs": [
    {
     "name": "stdout",
     "output_type": "stream",
     "text": [
      "no grade for Kate!\n"
     ]
    }
   ],
   "source": [
    "try :\n",
    "    kete_grade = grade[\"Kate\"]\n",
    "except KeyError:\n",
    "    print \"no grade for Kate!\""
   ]
  },
  {
   "cell_type": "code",
   "execution_count": 12,
   "metadata": {
    "collapsed": false
   },
   "outputs": [
    {
     "name": "stdout",
     "output_type": "stream",
     "text": [
      "True\n",
      "False\n"
     ]
    }
   ],
   "source": [
    "joel_has_grade = \"Joel\" in grade\n",
    "kate_has_grade = \"Kate\" in grade\n",
    "print joel_has_grade\n",
    "print kate_has_grade"
   ]
  },
  {
   "cell_type": "code",
   "execution_count": 17,
   "metadata": {
    "collapsed": false
   },
   "outputs": [],
   "source": [
    "# get with default\n",
    "\n",
    "joels_grade  = grade.get(\"Joel\", 0)\n",
    "kate_grade  = grade.get(\"kate\", 0)\n",
    "oels_grade  = grade.get(\"No One\") # 기본 값은 None 반환"
   ]
  },
  {
   "cell_type": "code",
   "execution_count": 18,
   "metadata": {
    "collapsed": false
   },
   "outputs": [
    {
     "name": "stdout",
     "output_type": "stream",
     "text": [
      "80\n",
      "0\n",
      "None\n"
     ]
    }
   ],
   "source": [
    "print joels_grade\n",
    "print kate_grade\n",
    "print oels_grade"
   ]
  },
  {
   "cell_type": "code",
   "execution_count": 21,
   "metadata": {
    "collapsed": true
   },
   "outputs": [],
   "source": [
    "grade[\"Tim\"] = 90\n",
    "grade[\"Kate\"] = 100\n",
    "num_students = len(grade)"
   ]
  },
  {
   "cell_type": "code",
   "execution_count": 24,
   "metadata": {
    "collapsed": true
   },
   "outputs": [],
   "source": [
    "tweet = {\n",
    "    \"user\": \"jeolgrus\",\n",
    "    \"text\": \"Data Science is Awesome\",\n",
    "    \"retweet_count\": 100,\n",
    "    \"hashtags\": [\"#data\", \"#science\", \"#datascience\", \"#awesome\", \"#yolo\"]\n",
    "}"
   ]
  },
  {
   "cell_type": "code",
   "execution_count": 25,
   "metadata": {
    "collapsed": false
   },
   "outputs": [
    {
     "name": "stdout",
     "output_type": "stream",
     "text": [
      "{'text': 'Data Science is Awesome', 'retweet_count': 100, 'hashtags': ['#data', '#science', '#datascience', '#awesome', '#yolo'], 'user': 'jeolgrus'}\n",
      "['text', 'retweet_count', 'hashtags', 'user']\n",
      "['Data Science is Awesome', 100, ['#data', '#science', '#datascience', '#awesome', '#yolo'], 'jeolgrus']\n",
      "[('text', 'Data Science is Awesome'), ('retweet_count', 100), ('hashtags', ['#data', '#science', '#datascience', '#awesome', '#yolo']), ('user', 'jeolgrus')]\n",
      "True\n",
      "True\n",
      "False\n"
     ]
    }
   ],
   "source": [
    "print tweet\n",
    "print tweet.keys() # key list\n",
    "print tweet.values() # value list\n",
    "print tweet.items() # (k, v) list\n",
    "\n",
    "print \"user\" in tweet.keys()\n",
    "print \"user\" in tweet\n",
    "print \"joelgrus\" in tweet.values()\n",
    "\n"
   ]
  },
  {
   "cell_type": "code",
   "execution_count": 33,
   "metadata": {
    "collapsed": false
   },
   "outputs": [],
   "source": [
    "# wordcount\n",
    "def wordCount(document) :\n",
    "    word_count = {}\n",
    "    for word in document:\n",
    "        if word in word_count:\n",
    "            word_count[word] += 1\n",
    "        else:\n",
    "            word_count[word] = 1\n",
    "    return word_count\n",
    "\n",
    "\n",
    "# defaultdict example\n",
    "def wordCountUsingDefaultDic(document):\n",
    "    form collections import defaultdict\n",
    "    word_count = defaultdict(int) # int 는 0 을 생성\n",
    "    for word in document:\n",
    "        word_count[word] += 1\n",
    "        "
   ]
  },
  {
   "cell_type": "code",
   "execution_count": 34,
   "metadata": {
    "collapsed": false
   },
   "outputs": [
    {
     "name": "stdout",
     "output_type": "stream",
     "text": [
      "{'and': 1, 'code': 1, 'GNU': 1, 'is': 2, 'It': 1, 'high-level': 1, '1985-': 1, 'tutorial': 1, 'van': 1, 'License': 1, 'also': 1, 'Python': 3, 'interpreted,': 1, 'Public': 1, 'source': 1, 'enough': 1, 'under': 1, 'was': 1, 'gives': 1, 'available': 1, '1990.': 1, 'Like': 1, 'object-oriented,': 1, 'Rossum': 1, 'Perl,': 1, 'This': 1, 'general-purpose': 1, 'understanding': 1, 'Guido': 1, 'during': 1, 'by': 1, 'a': 1, 'on': 1, 'created': 1, 'programming': 2, 'language.': 2, 'General': 1, '(GPL).': 1, 'the': 1, 'interactive,': 1}\n"
     ]
    }
   ],
   "source": [
    "doc = \"\"\"Python is a general-purpose interpreted, interactive, object-oriented, and high-level programming language. \n",
    "It was created by Guido van Rossum during 1985- 1990. Like Perl, Python source code is also available under the GNU General Public License (GPL). \n",
    "This tutorial gives enough understanding on Python programming language.\"\"\"\n",
    "\n",
    "word_count = wordCount(doc.split())\n",
    "\n",
    "print word_count"
   ]
  },
  {
   "cell_type": "code",
   "execution_count": 38,
   "metadata": {
    "collapsed": false
   },
   "outputs": [
    {
     "name": "stdout",
     "output_type": "stream",
     "text": [
      "Counter({0: 2, 1: 1, 2: 1})\n",
      "Counter({' ': 44, 'e': 31, 'n': 22, 'a': 20, 'i': 19, 'r': 18, 'o': 16, 't': 15, 'g': 14, 'l': 12, 's': 12, 'u': 12, 'd': 10, 'h': 8, 'c': 7, 'P': 6, 'm': 5, 'p': 5, 'v': 5, '-': 4, ',': 4, '.': 4, 'G': 4, 'b': 4, 'y': 4, '9': 3, 'L': 3, '\\n': 2, '1': 2, ')': 1, '(': 1, '0': 1, '5': 1, '8': 1, 'I': 1, 'N': 1, 'R': 1, 'U': 1, 'T': 1, 'k': 1, 'j': 1, 'w': 1})\n",
      "  44\n",
      "e 31\n",
      "n 22\n",
      "a 20\n",
      "i 19\n",
      "r 18\n",
      "o 16\n",
      "t 15\n",
      "g 14\n",
      "l 12\n"
     ]
    }
   ],
   "source": [
    "# Counter\n",
    "from collections import Counter\n",
    "c = Counter([0, 1, 2, 0]) \n",
    "print c  # Counter({0: 2, 1: 1, 2: 1})\n",
    "\n",
    "word_count = Counter(doc)\n",
    "print word_count\n",
    "# Counter({' ': 44, 'e': 31, 'n': 22, 'a': 20, 'i': 19, 'r': 18, 'o': 16, 't': 15, 'g': 14, 'l': 12, 's': 12, 'u': 12, 'd': 10, 'h': 8, 'c': 7, 'P': 6, 'm': 5, 'p': 5, 'v': 5, '-': 4, ',': 4, '.': 4, 'G': 4, 'b': 4, 'y': 4, '9': 3, 'L': 3, '\\n': 2, '1': 2, ')': 1, '(': 1, '0': 1, '5': 1, '8': 1, 'I': 1, 'N': 1, 'R': 1, 'U': 1, 'T': 1, 'k': 1, 'j': 1, 'w': 1})\n",
    "\n",
    "# 가장 많이 나오는 단어 10개와 이 단어들의 빈도수를 출력\n",
    "# Counter.most_common()\n",
    "for  word, count in word_count.most_common(10):\n",
    "    print word, count"
   ]
  }
 ],
 "metadata": {
  "kernelspec": {
   "display_name": "Python 2",
   "language": "python",
   "name": "python2"
  },
  "language_info": {
   "codemirror_mode": {
    "name": "ipython",
    "version": 2
   },
   "file_extension": ".py",
   "mimetype": "text/x-python",
   "name": "python",
   "nbconvert_exporter": "python",
   "pygments_lexer": "ipython2",
   "version": "2.7.13"
  }
 },
 "nbformat": 4,
 "nbformat_minor": 2
}
